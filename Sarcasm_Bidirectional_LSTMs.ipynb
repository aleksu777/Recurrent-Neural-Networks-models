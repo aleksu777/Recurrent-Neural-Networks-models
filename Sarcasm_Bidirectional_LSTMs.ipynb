{
  "nbformat": 4,
  "nbformat_minor": 0,
  "metadata": {
    "colab": {
      "name": " Sarcasm Bidirectional LSTMs.ipynb",
      "provenance": []
    },
    "kernelspec": {
      "name": "python3",
      "display_name": "Python 3"
    },
    "language_info": {
      "name": "python"
    }
  },
  "cells": [
    {
      "cell_type": "markdown",
      "source": [
        "***\n",
        "## In this notebook I will train an LSTM model to detect sarcasm and than comapared the results against a convolutional model\n",
        "***"
      ],
      "metadata": {
        "id": "oVIVshun6qkf"
      }
    },
    {
      "cell_type": "code",
      "execution_count": null,
      "metadata": {
        "colab": {
          "base_uri": "https://localhost:8080/"
        },
        "id": "iVpalWc4TfhY",
        "outputId": "ff01d623-bbb0-4299-da75-5379b9cefbad"
      },
      "outputs": [
        {
          "output_type": "stream",
          "name": "stdout",
          "text": [
            "Downloading...\n",
            "From: https://drive.google.com/uc?id=1xRU3xY5-tkiPGvlz5xBJ18_pHWSRzI4v\n",
            "To: /content/sarcasm.json\n",
            "\r  0% 0.00/5.64M [00:00<?, ?B/s]\r 84% 4.72M/5.64M [00:00<00:00, 41.4MB/s]\r100% 5.64M/5.64M [00:00<00:00, 47.8MB/s]\n"
          ]
        }
      ],
      "source": [
        "# First we Download the dataset\n",
        "\n",
        "\n",
        "!gdown --id 1xRU3xY5-tkiPGvlz5xBJ18_pHWSRzI4v"
      ]
    },
    {
      "cell_type": "code",
      "source": [
        "\n",
        "import json\n",
        "\n",
        "\n",
        "with open(\"./sarcasm.json\", 'r') as f:\n",
        "    datastore = json.load(f)\n",
        "\n",
        "\n",
        "sentences = []\n",
        "labels = []\n",
        "\n",
        "\n",
        "for item in datastore:\n",
        "    sentences.append(item['headline'])\n",
        "    labels.append(item['is_sarcastic'])\n",
        "\n"
      ],
      "metadata": {
        "id": "JlaxJ2sPTsjE"
      },
      "execution_count": null,
      "outputs": []
    },
    {
      "cell_type": "code",
      "source": [
        "training_size = 20000\n",
        "\n",
        "\n",
        "training_sentences = sentences[0:training_size]\n",
        "testing_sentences = sentences[training_size:]\n",
        "\n",
        "\n",
        "training_labels = labels[0:training_size]\n",
        "testing_labels = labels[training_size:]"
      ],
      "metadata": {
        "id": "Qry99KMGUcd7"
      },
      "execution_count": null,
      "outputs": []
    },
    {
      "cell_type": "code",
      "source": [
        "import numpy as np\n",
        "from tensorflow.keras.preprocessing.text import Tokenizer\n",
        "from tensorflow.keras.preprocessing.sequence import pad_sequences\n",
        "\n",
        "vocab_size = 10000\n",
        "max_length = 120\n",
        "trunc_type='post'\n",
        "padding_type='post'\n",
        "oov_tok = \"<OOV>\"\n",
        "\n",
        "\n",
        "tokenizer = Tokenizer(num_words=vocab_size, oov_token=oov_tok)\n",
        "\n",
        "\n",
        "tokenizer.fit_on_texts(training_sentences)\n",
        "word_index = tokenizer.word_index\n",
        "\n",
        "\n",
        "training_sequences = tokenizer.texts_to_sequences(training_sentences)\n",
        "training_padded = pad_sequences(training_sequences, maxlen=max_length, padding=padding_type, truncating=trunc_type)\n",
        "\n",
        "\n",
        "testing_sequences = tokenizer.texts_to_sequences(testing_sentences)\n",
        "testing_padded = pad_sequences(testing_sequences, maxlen=max_length, padding=padding_type, truncating=trunc_type)\n",
        "\n",
        "\n",
        "training_labels = np.array(training_labels)\n",
        "testing_labels = np.array(testing_labels)"
      ],
      "metadata": {
        "id": "_h3MJ66WUY5P"
      },
      "execution_count": null,
      "outputs": []
    },
    {
      "cell_type": "code",
      "source": [
        "import tensorflow as tf\n",
        "\n",
        "\n",
        "embedding_dim = 16\n",
        "lstm_dim = 32\n",
        "dense_dim = 24\n",
        "\n",
        "\n",
        "model_lstm = tf.keras.Sequential([\n",
        "    tf.keras.layers.Embedding(vocab_size, embedding_dim, input_length=max_length),\n",
        "    tf.keras.layers.Bidirectional(tf.keras.layers.LSTM(lstm_dim)),\n",
        "    tf.keras.layers.Dense(dense_dim, activation='relu'),\n",
        "    tf.keras.layers.Dense(1, activation='sigmoid')\n",
        "])\n",
        "\n",
        "\n",
        "model_lstm.compile(loss='binary_crossentropy',optimizer='adam',metrics=['accuracy'])\n",
        "\n",
        "\n",
        "model_lstm.summary()\n",
        "\n",
        "\n"
      ],
      "metadata": {
        "colab": {
          "base_uri": "https://localhost:8080/"
        },
        "id": "GAsYlmkqV4Ka",
        "outputId": "909776fa-3c27-4605-83e1-0cc865c0c3a5"
      },
      "execution_count": null,
      "outputs": [
        {
          "output_type": "stream",
          "name": "stdout",
          "text": [
            "Model: \"sequential\"\n",
            "_________________________________________________________________\n",
            " Layer (type)                Output Shape              Param #   \n",
            "=================================================================\n",
            " embedding (Embedding)       (None, 120, 16)           160000    \n",
            "                                                                 \n",
            " bidirectional (Bidirectiona  (None, 64)               12544     \n",
            " l)                                                              \n",
            "                                                                 \n",
            " dense (Dense)               (None, 24)                1560      \n",
            "                                                                 \n",
            " dense_1 (Dense)             (None, 1)                 25        \n",
            "                                                                 \n",
            "=================================================================\n",
            "Total params: 174,129\n",
            "Trainable params: 174,129\n",
            "Non-trainable params: 0\n",
            "_________________________________________________________________\n"
          ]
        }
      ]
    },
    {
      "cell_type": "code",
      "source": [
        "NUM_EPOCHS = 10\n",
        "\n",
        "\n",
        "history_lstm = model_lstm.fit(training_padded, \n",
        "                              training_labels, \n",
        "                              epochs=NUM_EPOCHS,\n",
        "                              validation_data=(testing_padded, testing_labels))"
      ],
      "metadata": {
        "colab": {
          "base_uri": "https://localhost:8080/"
        },
        "id": "2lVG8zsKWPev",
        "outputId": "48e8c602-edb2-4b08-fdea-61093ce29162"
      },
      "execution_count": null,
      "outputs": [
        {
          "output_type": "stream",
          "name": "stdout",
          "text": [
            "Epoch 1/10\n",
            "625/625 [==============================] - 49s 71ms/step - loss: 0.4186 - accuracy: 0.7987 - val_loss: 0.3312 - val_accuracy: 0.8563\n",
            "Epoch 2/10\n",
            "625/625 [==============================] - 42s 67ms/step - loss: 0.2209 - accuracy: 0.9087 - val_loss: 0.3428 - val_accuracy: 0.8594\n",
            "Epoch 3/10\n",
            "625/625 [==============================] - 43s 69ms/step - loss: 0.1431 - accuracy: 0.9454 - val_loss: 0.3935 - val_accuracy: 0.8536\n",
            "Epoch 4/10\n",
            "625/625 [==============================] - 51s 82ms/step - loss: 0.0901 - accuracy: 0.9686 - val_loss: 0.4863 - val_accuracy: 0.8501\n",
            "Epoch 5/10\n",
            "625/625 [==============================] - 49s 78ms/step - loss: 0.0560 - accuracy: 0.9813 - val_loss: 0.5636 - val_accuracy: 0.8436\n",
            "Epoch 6/10\n",
            "625/625 [==============================] - 45s 73ms/step - loss: 0.0360 - accuracy: 0.9880 - val_loss: 0.7022 - val_accuracy: 0.8430\n",
            "Epoch 7/10\n",
            "625/625 [==============================] - 47s 76ms/step - loss: 0.0257 - accuracy: 0.9918 - val_loss: 0.7695 - val_accuracy: 0.8401\n",
            "Epoch 8/10\n",
            "625/625 [==============================] - 41s 65ms/step - loss: 0.0166 - accuracy: 0.9950 - val_loss: 0.8492 - val_accuracy: 0.8334\n",
            "Epoch 9/10\n",
            "625/625 [==============================] - 41s 66ms/step - loss: 0.0126 - accuracy: 0.9958 - val_loss: 1.0034 - val_accuracy: 0.8304\n",
            "Epoch 10/10\n",
            "625/625 [==============================] - 41s 66ms/step - loss: 0.0104 - accuracy: 0.9965 - val_loss: 1.0762 - val_accuracy: 0.8335\n"
          ]
        }
      ]
    },
    {
      "cell_type": "code",
      "source": [
        "import matplotlib.pyplot as plt\n",
        "\n",
        "\n",
        "def plot_graphs(history, string):\n",
        "  plt.plot(history.history[string])\n",
        "  plt.plot(history.history['val_'+string])\n",
        "  plt.xlabel(\"Epochs\")\n",
        "  plt.ylabel(string)\n",
        "  plt.legend([string, 'val_'+string])\n",
        "  plt.show()\n",
        "\n",
        "\n",
        "plot_graphs(history_lstm, 'accuracy')\n",
        "plot_graphs(history_lstm, 'loss')"
      ],
      "metadata": {
        "colab": {
          "base_uri": "https://localhost:8080/",
          "height": 541
        },
        "id": "W_zsMwagWS5B",
        "outputId": "9cb8ef1c-c907-477c-bb03-31e9204a8cc8"
      },
      "execution_count": null,
      "outputs": [
        {
          "output_type": "display_data",
          "data": {
            "text/plain": [
              "<Figure size 432x288 with 1 Axes>"
            ],
            "image/png": "[encoded data removed]"
          },
          "metadata": {
            "needs_background": "light"
          }
        },
        {
          "output_type": "display_data",
          "data": {
            "text/plain": [
              "<Figure size 432x288 with 1 Axes>"
            ],
            "image/png": "[encoded data removed]"
          },
          "metadata": {
            "needs_background": "light"
          }
        }
      ]
    },
    {
      "cell_type": "markdown",
      "source": [
        "# I will use a  Convolution Layer instead of LSTM\n"
      ],
      "metadata": {
        "id": "3brY8psaWq1g"
      }
    },
    {
      "cell_type": "code",
      "source": [
        "#### The only thing different is you ad Conv1D layer instead of the Bidirictional LSTM and then the GlobalMaxPooling1D /// \n",
        "### many ways to skin the cat in NAtural Language Processing NLP  COnv1D is the fastest, then the Flatten layer, then the GRU layer\n",
        "## and multilayer bidirectional LSTM the slowest to trian but most accurate , must have GPU to train it not on personal machine!\n",
        "\n",
        "\n",
        "embedding_dim = 16\n",
        "filters = 128\n",
        "kernel_size = 5\n",
        "dense_dim = 6\n",
        "\n",
        "# Model Definition with Conv1D\n",
        "model_conv = tf.keras.Sequential([\n",
        "    tf.keras.layers.Embedding(vocab_size, embedding_dim, input_length=max_length),\n",
        "    tf.keras.layers.Conv1D(filters, kernel_size, activation='relu'),\n",
        "    tf.keras.layers.GlobalMaxPooling1D(),\n",
        "    tf.keras.layers.Dense(dense_dim, activation='relu'),\n",
        "    tf.keras.layers.Dense(1, activation='sigmoid')\n",
        "])\n",
        "\n",
        "\n",
        "model_conv.compile(loss='binary_crossentropy',optimizer='adam',metrics=['accuracy'])\n",
        "\n",
        "\n",
        "model_conv.summary()\n",
        "\n"
      ],
      "metadata": {
        "id": "zBl5Ua2kWwfN"
      },
      "execution_count": null,
      "outputs": []
    },
    {
      "cell_type": "code",
      "source": [
        "NUM_EPOCHS = 10\n",
        "\n",
        "\n",
        "history_conv = model_conv.fit(training_padded, \n",
        "                              training_labels, \n",
        "                              epochs=NUM_EPOCHS, \n",
        "                              validation_data=(testing_padded, testing_labels))"
      ],
      "metadata": {
        "id": "dqe7LcFEXdcK"
      },
      "execution_count": null,
      "outputs": []
    },
    {
      "cell_type": "code",
      "source": [
        "import matplotlib.pyplot as plt\n",
        "\n",
        "\n",
        "def plot_graphs(history, string):\n",
        "  plt.plot(history.history[string])\n",
        "  plt.plot(history.history['val_'+string])\n",
        "  plt.xlabel(\"Epochs\")\n",
        "  plt.ylabel(string)\n",
        "  plt.legend([string, 'val_'+string])\n",
        "  plt.show()\n",
        "\n",
        "\n",
        "plot_graphs(history_conv, 'accuracy')\n",
        "plot_graphs(history_conv, 'loss')"
      ],
      "metadata": {
        "id": "rdXUc8nMXhfv"
      },
      "execution_count": null,
      "outputs": []
    }
  ]
}